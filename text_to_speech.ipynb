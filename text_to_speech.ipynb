{
 "cells": [
  {
   "cell_type": "code",
   "execution_count": 14,
   "id": "9e73d110",
   "metadata": {
    "scrolled": true
   },
   "outputs": [
    {
     "name": "stdout",
     "output_type": "stream",
     "text": [
      "Requirement already satisfied: pyttsx3 in c:\\users\\hayan\\appdata\\local\\programs\\python\\python310\\lib\\site-packages (2.90)\n",
      "Requirement already satisfied: pypiwin32 in c:\\users\\hayan\\appdata\\local\\programs\\python\\python310\\lib\\site-packages (from pyttsx3) (223)\n",
      "Requirement already satisfied: comtypes in c:\\users\\hayan\\appdata\\local\\programs\\python\\python310\\lib\\site-packages (from pyttsx3) (1.1.14)\n",
      "Requirement already satisfied: pywin32 in c:\\users\\hayan\\appdata\\roaming\\python\\python310\\site-packages (from pyttsx3) (304)\n"
     ]
    }
   ],
   "source": [
    "!pip install pyttsx3"
   ]
  },
  {
   "cell_type": "code",
   "execution_count": 13,
   "id": "2b0ec764",
   "metadata": {},
   "outputs": [],
   "source": [
    "import pyttsx3"
   ]
  },
  {
   "cell_type": "code",
   "execution_count": 31,
   "id": "040cc842",
   "metadata": {},
   "outputs": [],
   "source": [
    "def text_to_speech(text):\n",
    "    text_speech = pyttsx3.init()  # initialize\n",
    "    voices = text_speech.getProperty('voices')\n",
    "    text_speech.setProperty('voice', voices[1].id)\n",
    "    text_speech.say(text)   # convert\n",
    "    text_speech.runAndWait()\n",
    "#     text_speech.save_to_file(text,'text.mp3')   # save to media"
   ]
  },
  {
   "cell_type": "code",
   "execution_count": 35,
   "id": "6f269444",
   "metadata": {},
   "outputs": [],
   "source": [
    "text_to_speech(\"Hello world\")"
   ]
  }
 ],
 "metadata": {
  "kernelspec": {
   "display_name": "Python 3 (ipykernel)",
   "language": "python",
   "name": "python3"
  },
  "language_info": {
   "codemirror_mode": {
    "name": "ipython",
    "version": 3
   },
   "file_extension": ".py",
   "mimetype": "text/x-python",
   "name": "python",
   "nbconvert_exporter": "python",
   "pygments_lexer": "ipython3",
   "version": "3.10.5"
  }
 },
 "nbformat": 4,
 "nbformat_minor": 5
}
